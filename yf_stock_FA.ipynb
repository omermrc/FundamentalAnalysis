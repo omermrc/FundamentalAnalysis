{
 "cells": [
  {
   "cell_type": "markdown",
   "id": "452af008-36b6-411f-8559-0b9330e9e3b3",
   "metadata": {},
   "source": [
    "## Imports"
   ]
  },
  {
   "cell_type": "markdown",
   "id": "c19b4f92",
   "metadata": {},
   "source": []
  },
  {
   "cell_type": "code",
   "execution_count": 1,
   "id": "a4d98827-4e53-4236-bac3-b1473204a182",
   "metadata": {},
   "outputs": [],
   "source": [
    "import json\n",
    "\n",
    "# For DataFrame\n",
    "import pandas as pd\n",
    "import numpy as np\n"
   ]
  },
  {
   "cell_type": "markdown",
   "id": "84dcecad",
   "metadata": {},
   "source": [
    "Calling save_info.py\n"
   ]
  },
  {
   "cell_type": "code",
   "execution_count": 2,
   "id": "dff75858",
   "metadata": {},
   "outputs": [
    {
     "ename": "KeyboardInterrupt",
     "evalue": "",
     "output_type": "error",
     "traceback": [
      "\u001b[0;31m---------------------------------------------------------------------------\u001b[0m",
      "\u001b[0;31mKeyboardInterrupt\u001b[0m                         Traceback (most recent call last)",
      "Cell \u001b[0;32mIn[2], line 1\u001b[0m\n\u001b[0;32m----> 1\u001b[0m \u001b[38;5;28;01mimport\u001b[39;00m \u001b[38;5;21;01msave_info\u001b[39;00m\n",
      "File \u001b[0;32m~/Desktop/Hedgeblue/Python Projects/FundamentalAnalysiswithStreamlit/save_info.py:51\u001b[0m\n\u001b[1;32m     49\u001b[0m \u001b[38;5;28;01mwhile\u001b[39;00m \u001b[38;5;28;01mTrue\u001b[39;00m:\n\u001b[1;32m     50\u001b[0m     schedule\u001b[38;5;241m.\u001b[39mrun_pending()\n\u001b[0;32m---> 51\u001b[0m     time\u001b[38;5;241m.\u001b[39msleep(\u001b[38;5;241m1\u001b[39m)\n",
      "\u001b[0;31mKeyboardInterrupt\u001b[0m: "
     ]
    }
   ],
   "source": [
    "\n",
    "import save_info"
   ]
  },
  {
   "cell_type": "markdown",
   "id": "2042e94b",
   "metadata": {},
   "source": [
    "READ CSV\n"
   ]
  },
  {
   "cell_type": "code",
   "execution_count": 3,
   "id": "7b0e6b81",
   "metadata": {},
   "outputs": [],
   "source": [
    "# Read the CSV file and select columns 0 and 2\n",
    "df = pd.read_csv(\"iShares-Russell-3000-ETF_fund.csv\", usecols=[0, 2])\n",
    "\n",
    "# Extract the unique sectors from the selected columns\n",
    "unique_sectors = df.iloc[:, 1].unique()\n",
    "\n",
    "# Display the available sectors\n",
    "\n",
    "from save_info import selected_sector\n",
    "# Allow the user to select a sector\n",
    "selected_sector1=selected_sector\n",
    "\n",
    "# Filter symbols for the selected sector\n",
    "selected_symbols = df[df.iloc[:, 1] == selected_sector1].iloc[:, 0].head(10).tolist()\n",
    "\n"
   ]
  },
  {
   "cell_type": "markdown",
   "id": "00a22193-52ed-43cb-b02b-07147afee26a",
   "metadata": {},
   "source": [
    "## Configuration"
   ]
  },
  {
   "cell_type": "code",
   "execution_count": null,
   "id": "7f3c9d46-bb08-4032-97db-ff40d7b0676a",
   "metadata": {},
   "outputs": [],
   "source": [
    "# List of stock symbols we need to run fundamental analysis on - any symbol added here must have the json file\n",
    "# containing stock info from YF\n",
    "SYMBOLS = selected_symbols\n",
    "DATA_PATH = 'out/info'\n",
    "\n",
    "# Dictionary to collect data to create a DF later\n",
    "data = {\n",
    "    'Symbol': [],\n",
    "    'Name': [],\n",
    "    'Industry': [],\n",
    "    'EPS (fwd)': [],\n",
    "    'P/E (fwd)': [],\n",
    "    'PEG': [],\n",
    "    'FCFY' : [],\n",
    "    'PB': [],\n",
    "    'ROE' : [],\n",
    "    'P/S (trail)': [],\n",
    "    'DPR' : [],\n",
    "    'DY' : [],\n",
    "    'CR' : [],\n",
    "    'Beta': [],\n",
    "    'Price': [],\n",
    "    '52w Low': [],\n",
    "    '52w High': []\n",
    "    }"
   ]
  },
  {
   "cell_type": "markdown",
   "id": "e6fd1374-17e3-40f6-8693-6d4b184e83e1",
   "metadata": {},
   "source": [
    "## Loads data from json files"
   ]
  },
  {
   "cell_type": "code",
   "execution_count": null,
   "id": "86f23ac9-5762-48cf-bc80-fcd541e13b84",
   "metadata": {},
   "outputs": [],
   "source": [
    "def load_data(json_data):\n",
    "    data['Symbol'].append(json_data['symbol'])\n",
    "    data['Name'].append(json_data['longName'])\n",
    "    data['Industry'].append(json_data['industry'])\n",
    "    data['Price'].append(json_data['currentPrice'])\n",
    "\n",
    "    # Could be that some indicators are not available; use NaN if this is the case\n",
    "    \n",
    "    if 'forwardEps' in json_data:\n",
    "        data['EPS (fwd)'].append(json_data['forwardEps'])\n",
    "    else:\n",
    "        data['EPS (fwd)'].append(np.nan)\n",
    "        \n",
    "    if 'forwardPE' in json_data:\n",
    "        data['P/E (fwd)'].append(json_data['forwardPE'])\n",
    "    else:\n",
    "        data['P/E (fwd)'].append(np.nan)\n",
    "        \n",
    "    if 'pegRatio' in json_data:\n",
    "        data['PEG'].append(json_data['pegRatio'])\n",
    "    else:\n",
    "        data['PEG'].append(np.nan)\n",
    "\n",
    "    if ('freeCashflow' in json_data) and ('marketCap' in json_data):\n",
    "        fcfy = (json_data['freeCashflow']/json_data['marketCap']) * 100\n",
    "        data['FCFY'].append(round(fcfy, 2))\n",
    "    else:\n",
    "        data['FCFY'].append(np.nan)\n",
    "\n",
    "    if 'priceToBook' in json_data:\n",
    "        data['PB'].append(json_data['priceToBook'])\n",
    "    else:\n",
    "        data['PB'].append(np.nan)\n",
    "\n",
    "    if 'returnOnEquity' in json_data:\n",
    "        data['ROE'].append(json_data['returnOnEquity'])\n",
    "    else:\n",
    "        data['ROE'].append(np.nan)\n",
    "        \n",
    "    if 'priceToSalesTrailing12Months' in json_data:\n",
    "        data['P/S (trail)'].append(json_data['priceToSalesTrailing12Months'])\n",
    "    else:\n",
    "        data['P/S (trail)'].append(np.nan)\n",
    "\n",
    "    data['DPR'].append(json_data['payoutRatio'] * 100)\n",
    "\n",
    "    if 'dividendYield' in json_data:\n",
    "        data['DY'].append(json_data['dividendYield'])\n",
    "    else:\n",
    "        data['DY'].append(0.0)\n",
    "\n",
    "    if 'beta' in json_data:\n",
    "        data['Beta'].append(json_data['beta'])\n",
    "    else:\n",
    "        data['Beta'].append(np.nan)\n",
    "\n",
    "    if 'currentRatio' in json_data:\n",
    "        data['CR'].append(json_data['currentRatio'])\n",
    "    else:\n",
    "        data['CR'].append(np.nan)\n",
    "\n",
    "    if 'fiftyTwoWeekLow' in json_data:\n",
    "        data['52w Low'].append(json_data['fiftyTwoWeekLow'])\n",
    "    else:\n",
    "        data['52w Low'].append(np.nan)\n",
    "        \n",
    "    if 'fiftyTwoWeekHigh' in json_data:    \n",
    "        data['52w High'].append(json_data['fiftyTwoWeekHigh'])\n",
    "    else:\n",
    "        data['52w High'].append(np.nan)"
   ]
  },
  {
   "cell_type": "markdown",
   "id": "9df47280-03d2-4d1d-a8be-bdfc90d9abc3",
   "metadata": {},
   "source": [
    "## Loads stock data from json files"
   ]
  },
  {
   "cell_type": "code",
   "execution_count": null,
   "id": "977f9301-a64c-4ab4-a517-d8ff101de8f4",
   "metadata": {},
   "outputs": [],
   "source": [
    "for symbol in SYMBOLS:\n",
    "    # Specify the full path to load JSON data\n",
    "    file_name = f'{DATA_PATH}/{symbol}.json'    \n",
    "    try:\n",
    "        # Open the file in read mode\n",
    "        with open(file_name, 'r') as file:\n",
    "            # Use json.load() to parse the JSON data from the file\n",
    "            load_data(json.load(file))\n",
    "    except FileNotFoundError:\n",
    "        print(f\"File '{file_name}' not found.\")\n",
    "    except json.JSONDecodeError as e:\n",
    "        print(f\"Error decoding JSON data: {e}\")\n",
    "    except Exception as e:\n",
    "        print(f\"An error occurred: {e}\")"
   ]
  },
  {
   "cell_type": "markdown",
   "id": "b54cae23-3a32-4127-8e65-9a7b471d623b",
   "metadata": {},
   "source": [
    "## Create DF"
   ]
  },
  {
   "cell_type": "code",
   "execution_count": null,
   "id": "2f9b4cb6-4988-4058-bba6-774829e975c4",
   "metadata": {},
   "outputs": [],
   "source": [
    "# Create a DF using the dictionary\n",
    "df = pd.DataFrame(data)\n",
    "\n",
    "# Save any stocks with NaN values\n",
    "df_exceptions = df[df.isna().any(axis=1)]\n",
    "\n",
    "# Remove any stocks with NaN values\n",
    "df=df.dropna()\n",
    "\n",
    "# Reset index after dropping rows with NaN values\n",
    "df.reset_index(drop=True, inplace=True)\n",
    "\n",
    "# Add 52 week price range\n",
    "df['52w Range'] = ((df['Price'] - df['52w Low'])/(df['52w High'] - df['52w Low']))*100\n",
    "\n",
    "df_exceptions"
   ]
  },
  {
   "cell_type": "markdown",
   "id": "717fd9bd-5233-441e-b8e5-e5166aed3811",
   "metadata": {},
   "source": [
    "## Adds styles to DF"
   ]
  },
  {
   "cell_type": "code",
   "execution_count": null,
   "id": "6841e09c-3bbe-4a05-b142-a3444bf35df9",
   "metadata": {},
   "outputs": [],
   "source": [
    "def make_pretty(styler):\n",
    "    # Column formatting\n",
    "    styler.format({'EPS (fwd)': '${:.2f}', 'P/E (fwd)': '{:.2f}', 'PEG': '{:.2f}',\n",
    "                   'FCFY': '{:.2f}%', 'PB' : '{:.2f}', 'ROE' : '{:.2f}', 'P/S (trail)': '{:.2f}',\n",
    "                   'DPR': '{:.2f}%', 'DY': '{:.2f}%', 'CR' : '{:.2f}', 'Beta': '{:.2f}', '52w Low': '${:.2f}',\n",
    "                   'Price': '${:.2f}', '52w High': '${:.2f}', '52w Range': '{:.2f}%'\n",
    "                  })\n",
    "    # Set the bar visualization\n",
    "    styler.bar(subset = ['52w Range'], align = \"mid\", color = [\"salmon\", \"cornflowerblue\"])\n",
    "\n",
    "    # Grid\n",
    "    styler.set_properties(**{'border': '0.1px solid black'})\n",
    "\n",
    "    # Set background gradients\n",
    "    styler.background_gradient(subset=['EPS (fwd)'], cmap='Greens')\n",
    "    styler.background_gradient(subset=['P/E (fwd)'], cmap='Greens')\n",
    "    styler.background_gradient(subset=['PEG'], cmap='Greens')\n",
    "    styler.background_gradient(subset=['FCFY'], cmap='Greens')\n",
    "    styler.background_gradient(subset=['PB'], cmap='Greens')\n",
    "    styler.background_gradient(subset=['ROE'], cmap='Greens')\n",
    "    styler.background_gradient(subset=['P/S (trail)'], cmap='Greens')\n",
    "    styler.background_gradient(subset=['DPR'], cmap='Greens')\n",
    "    styler.background_gradient(subset=['DY'], cmap='Greens')\n",
    "    styler.background_gradient(subset=['CR'], cmap='Greens')\n",
    "\n",
    "    # No index\n",
    "    styler.hide(axis='index')\n",
    "\n",
    "    # Tooltips\n",
    "    styler.set_tooltips(\n",
    "        ttips,css_class='tt-add',\n",
    "        props=[\n",
    "            ('visibility', 'hidden'),\n",
    "            ('position', 'absolute'),\n",
    "            ('background-color', 'salmon'),\n",
    "            ('color', 'black'),\n",
    "            ('z-index', 1),\n",
    "            ('padding', '3px 3px'),\n",
    "            ('margin', '2px')\n",
    "        ]\n",
    "    )\n",
    "    # Left text alignment for some columns\n",
    "    styler.set_properties(subset=['Symbol', 'Name', 'Industry'], **{'text-align': 'left'})\n",
    "    return styler"
   ]
  },
  {
   "cell_type": "markdown",
   "id": "5a8f3292-3435-42c3-bdfe-589c2dc38930",
   "metadata": {},
   "source": [
    "## Adds Tool Tips"
   ]
  },
  {
   "cell_type": "code",
   "execution_count": null,
   "id": "448ffc9f-61d8-4f46-b9ce-38dc8bd9fe96",
   "metadata": {},
   "outputs": [],
   "source": [
    "def populate_tt(df, tt_data, col_name):\n",
    "    stats = df[col_name].describe()\n",
    "    \n",
    "    per25 = round(stats.loc['25%'], 2)\n",
    "    per50 = round(stats.loc['50%'], 2)\n",
    "    per75 = round(stats.loc['75%'], 2)\n",
    "\n",
    "    # Get position based on the column name\n",
    "    pos = df.columns.to_list().index(col_name)\n",
    "    \n",
    "    for index, row in df.iterrows():\n",
    "        pe = row[col_name]\n",
    "        if pe == stats.loc['min']:\n",
    "            tt_data[index][pos] = 'Lowest'\n",
    "        elif pe == stats.loc['max']:\n",
    "            tt_data[index][pos] = 'Hightest'\n",
    "        elif pe <= per25:\n",
    "            tt_data[index][pos] = '25% of companies under {}'.format(per25)\n",
    "        elif pe <= per50:\n",
    "            tt_data[index][pos] = '50% of companies under {}'.format(per50)\n",
    "        elif pe <= per75:\n",
    "            tt_data[index][pos] = '75% of companies under {}'.format(per75)\n",
    "        else:\n",
    "            tt_data[index][pos] = '25% of companies over {}'.format(per75)    "
   ]
  },
  {
   "cell_type": "markdown",
   "id": "1b939018-25d6-44ef-b78a-79f530c10996",
   "metadata": {},
   "source": [
    "## Apply styles and tooltips"
   ]
  },
  {
   "cell_type": "code",
   "execution_count": null,
   "id": "53f4fd76-832b-4dc6-8b82-30959a302541",
   "metadata": {},
   "outputs": [],
   "source": [
    "# Initialize tool tip data - each column is set to '' for each row\n",
    "tt_data = [['' for x in range(len(df.columns))] for y in range(len(df))]\n",
    "\n",
    "# Gather tool tip data for indicators\n",
    "populate_tt(df, tt_data, 'EPS (fwd)')\n",
    "populate_tt(df, tt_data, 'P/E (fwd)')\n",
    "populate_tt(df, tt_data, 'PEG')\n",
    "populate_tt(df, tt_data, 'FCFY')\n",
    "populate_tt(df, tt_data, 'PB')\n",
    "populate_tt(df, tt_data, 'ROE')\n",
    "populate_tt(df, tt_data, 'P/S (trail)')\n",
    "populate_tt(df, tt_data, 'DPR')\n",
    "populate_tt(df, tt_data, 'DY')\n",
    "populate_tt(df, tt_data, 'CR')\n",
    "\n",
    "# Create a tool tip DF\n",
    "ttips = pd.DataFrame(data=tt_data, columns=df.columns, index=df.index)\n",
    "\n",
    "# Add table caption and styles to DF\n",
    "df.style.pipe(make_pretty).set_caption('Fundamental Indicators').set_table_styles(\n",
    "    [{'selector': 'th.col_heading', 'props': 'text-align: center'},\n",
    "     {'selector': 'caption', 'props': [('text-align', 'center'),\n",
    "                                       ('font-size', '11pt'), ('font-weight', 'bold')]}])"
   ]
  },
  {
   "cell_type": "markdown",
   "id": "d3b39298-a58f-4bc2-999b-c25733d8d5e2",
   "metadata": {},
   "source": [
    "## Description\n",
    "1. __[EPS](https://www.investopedia.com/terms/e/eps.asp)__ (Earnings Per Share): portion of a company’s profit that is assigned to each share of its stock\n",
    "2. __[P/E](https://www.investopedia.com/terms/p/price-earningsratio.asp)__ (Price to Earnings): relationship between the stock price of a company and its per-share earnings. It helps investors determine if a stock is undervalued or overvalued relative to others in the same sector.\n",
    "3. __[PEG](https://www.investopedia.com/terms/p/pegratio.asp)}__ (Projected Earnings Growth): - calculated by dividing a stock’s P/E by its projected 12-month forward revenue growth rate. In general, a PEG lower than 1 is a good sign, and a PEG higher than 2 indicates that a stock may be overpriced\n",
    "4. __[FCFY](https://www.investopedia.com/articles/fundamental-analysis/09/free-cash-flow-yield.asp)__ (Free Cash Flow Yield): a financial solvency ratio that compares the free cash flow per share a company is expected to earn against its market value per share. A lower ratio indicates a less attractive investment opportunity.\n",
    "5. __[PB](https://www.investopedia.com/terms/p/price-to-bookratio.asp)__ (Price to Book): A ratio of 1 indicates the company's shares are trading in line with its book value. A P/B higher than 1 suggests the company is trading at a premium to book value, and lower than 1 indicates a stock that may be undervalued relative to the company's assets.\n",
    "6. __[ROE](https://www.investopedia.com/terms/r/returnonequity.asp)__ (Return on Equity): provides a way for investors to evaluate how effectively a company is using its equity to generate profits. A higher ROE indicates a more efficient use of shareholder equity, which can lead to increased demand for shares and higher stock price, as well as increase in company's profits in the future.\n",
    "7. __[P/S](https://www.investopedia.com/terms/p/price-to-salesratio.asp)__ (Price to Sales): determines the fair value of a stock by utilizing a company’s market capitalization and revenue. It shows how much the market values the company’s sales, which can be effective in valuing growth stocks that have yet to turn a profit or aren’t performing as expected due to a temporary setback.\n",
    "8. __[DPR](https://www.investopedia.com/terms/d/dividendpayoutratio.asp)__ (Dividend Payment Ratio): ratio of the total amount of dividends paid out to shareholders relative to the net income of the company. _Reference:_ __[Dividend Payout Ratio Definition, Formula, and Calculation](https://www.investopedia.com/terms/d/dividendpayoutratio.asp)__\n",
    "9. __[DY](https://www.investopedia.com/terms/d/dividendyield.asp)__ (Dividend Yield Ratio): ratio looks at the amount paid by a company in dividends every year relative to its share price. It is an estimate of the dividend-only return of a stock investment.\n",
    "10. __[CR](https://www.investopedia.com/terms/c/currentratio.asp)__ (Current Ratio): measures a company's ability to pay off its current liabilities (payable within one year) with its current assets such as cash, accounts receivable, and inventories. The higher the ratio, the better the company's liquidity position.\n",
    "11. __[Beta](https://www.investopedia.com/terms/b/beta.asp)__: is a measure of a stock's volatility in relation to the overall market. A stock that swings more than the market over time has a beta above 1.0. If a stock moves less than the market, the stock's beta is less than 1.0.\n",
    "12. __52w Range__: a visualization to indicate which stocks are near their 52 week low and which are near their 52 week high. For example, 90% will indicate that the current price is very close to its 52 week high\n",
    "\n",
    "### Reference:\n",
    "1. __[Top 10 Fundamental Analysis Indicators for All Investors](https://investoracademy.org/top-10-fundamental-analysis-indicators-for-all-investors/)__\n",
    "2. __[Five Key Financial Ratios for Stock Analysis](https://www.schwab.com/learn/story/five-key-financial-ratios-stock-analysis#:~:text=Learn%20how%20these%20five%20key,depth%20of%20perspective%20you%20need)__"
   ]
  }
 ],
 "metadata": {
  "kernelspec": {
   "display_name": "Python 3 (ipykernel)",
   "language": "python",
   "name": "python3"
  },
  "language_info": {
   "codemirror_mode": {
    "name": "ipython",
    "version": 3
   },
   "file_extension": ".py",
   "mimetype": "text/x-python",
   "name": "python",
   "nbconvert_exporter": "python",
   "pygments_lexer": "ipython3",
   "version": "3.11.5"
  }
 },
 "nbformat": 4,
 "nbformat_minor": 5
}
